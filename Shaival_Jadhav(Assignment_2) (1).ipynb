{
  "nbformat": 4,
  "nbformat_minor": 0,
  "metadata": {
    "colab": {
      "name": "Shaival Jadhav(Assignment 2).ipynb",
      "provenance": [],
      "collapsed_sections": []
    },
    "kernelspec": {
      "name": "python3",
      "display_name": "Python 3"
    },
    "language_info": {
      "name": "python"
    }
  },
  "cells": [
    {
      "cell_type": "markdown",
      "metadata": {
        "id": "Ip7RazK12Pnc"
      },
      "source": [
        "# **ASSIGNMENT** **2**"
      ]
    },
    {
      "cell_type": "markdown",
      "metadata": {
        "id": "GzOdJtf6bHP6"
      },
      "source": [
        "# **NAME: SHAIVAL JADHAV**"
      ]
    },
    {
      "cell_type": "markdown",
      "metadata": {
        "id": "X6zNrIRP1lmx"
      },
      "source": [
        "Q Write a lambda expression to extract first word of a string."
      ]
    },
    {
      "cell_type": "code",
      "metadata": {
        "colab": {
          "base_uri": "https://localhost:8080/"
        },
        "id": "PU98yajE1jLc",
        "outputId": "a4b6421c-2f14-4262-e727-5b48b2b5d15a"
      },
      "source": [
        "str1 = input(\"Enter a string: \")\n",
        "str2 = lambda str1:str1.split(\" \")[0]\n",
        "print(\"First Word of string using lambda function: \", str2(str1))"
      ],
      "execution_count": null,
      "outputs": [
        {
          "output_type": "stream",
          "name": "stdout",
          "text": [
            "Enter a string: hello world\n",
            "First Word of string using lambda function:  hello\n"
          ]
        }
      ]
    },
    {
      "cell_type": "markdown",
      "metadata": {
        "id": "Yoxoewe3yORQ"
      },
      "source": [
        "Q Write a function to extract first word of s string (with many words separated by space)."
      ]
    },
    {
      "cell_type": "code",
      "metadata": {
        "colab": {
          "base_uri": "https://localhost:8080/"
        },
        "id": "czMPn0A5yNEH",
        "outputId": "430c08d5-68fd-4c5a-b1fb-ca7634eb4494"
      },
      "source": [
        "def first_word(str):\n",
        "  return str.split(\" \")[0]\n",
        "s =input(\"Enter a string: \")\n",
        "print(\"First Word of s String is: \", first_word(s))"
      ],
      "execution_count": null,
      "outputs": [
        {
          "output_type": "stream",
          "name": "stdout",
          "text": [
            "Enter a string: hello world\n",
            "First Word of s String is:  hello\n"
          ]
        }
      ]
    },
    {
      "cell_type": "markdown",
      "metadata": {
        "id": "WiDUa8cbxVGs"
      },
      "source": [
        "Q Extract the first word from every string from a list of strings by using map function."
      ]
    },
    {
      "cell_type": "code",
      "metadata": {
        "colab": {
          "base_uri": "https://localhost:8080/"
        },
        "id": "Xgeitva3xAvz",
        "outputId": "d45f30af-4099-447e-fa9f-846cb90b4d5f"
      },
      "source": [
        "n = int(input(\"Enter number of string: \"))\n",
        "list1=[]\n",
        "for i in range(0,n):\n",
        "  str1= input()\n",
        "  list1.append(str1)\n",
        "first_word = list(map(lambda strr:strr.split(\" \")[0], list1))\n",
        "print(\"First word from every list : \", first_word)"
      ],
      "execution_count": null,
      "outputs": [
        {
          "output_type": "stream",
          "name": "stdout",
          "text": [
            "Enter number of string: 5\n",
            "hello world\n",
            "how are u\n",
            "welcome to coding\n",
            "python programming\n",
            "hii\n",
            "First word from every list :  ['hello', 'how', 'welcome', 'python', 'hii']\n"
          ]
        }
      ]
    },
    {
      "cell_type": "markdown",
      "metadata": {
        "id": "LzkOIizNtGmi"
      },
      "source": [
        "Q Write a function to return a list of prime factors of a given number.\n"
      ]
    },
    {
      "cell_type": "code",
      "metadata": {
        "colab": {
          "base_uri": "https://localhost:8080/"
        },
        "id": "imcjdfdMjczh",
        "outputId": "7e71d9d7-00bb-4c01-a347-f8992e5f6bd6"
      },
      "source": [
        "import math\n",
        "def fac(n1):\n",
        "\twhile n1 % 2 == 0:\n",
        "\t\tprint(2)\n",
        "\t\tn1 = n1 / 2\n",
        "\tfor i in range(3, int(math.sqrt(n1))+1, 2):\n",
        "\t\twhile n1 % i== 0:\n",
        "\t\t\tprint(i)\n",
        "\t\t\tn1 = n1 / i\n",
        "\tif n1 > 2:\n",
        "\t\tprint(n)\n",
        "\n",
        "n = int(input(\"Enter a number: \"))\n",
        "print(\"Prime Factors are: \")\n",
        "fac(n)"
      ],
      "execution_count": null,
      "outputs": [
        {
          "output_type": "stream",
          "name": "stdout",
          "text": [
            "Enter a number: 65\n",
            "Prime Factors are: \n",
            "5\n",
            "65\n"
          ]
        }
      ]
    },
    {
      "cell_type": "markdown",
      "metadata": {
        "id": "BkxFHmeYtkuj"
      },
      "source": [
        "Q Write a function that finds 2nd largest among 4 numbers (Repetitions are allowed, without sorting)."
      ]
    },
    {
      "cell_type": "code",
      "metadata": {
        "colab": {
          "base_uri": "https://localhost:8080/"
        },
        "id": "dT9YvEMhqPhN",
        "outputId": "2ad0ccb8-fa42-4c92-c8c2-541af7937d5c"
      },
      "source": [
        "list1 = [11, 22, 111, 29, 67, 51, 67, 68, 32]\n",
        "new_list = set(list1)\n",
        "#remove largest element from list\n",
        "new_list.remove(max(new_list))\n",
        "#now print 2nd largest element from list\n",
        "print(\"Second Largest Element of List: \", max(new_list))"
      ],
      "execution_count": null,
      "outputs": [
        {
          "output_type": "stream",
          "name": "stdout",
          "text": [
            "Second Largest Element of List:  68\n"
          ]
        }
      ]
    }
  ]
}