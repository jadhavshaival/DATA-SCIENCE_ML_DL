{
  "nbformat": 4,
  "nbformat_minor": 0,
  "metadata": {
    "colab": {
      "name": "Shaival Jadhav(REGex Assignment3).ipynb",
      "provenance": [],
      "collapsed_sections": []
    },
    "kernelspec": {
      "name": "python3",
      "display_name": "Python 3"
    },
    "language_info": {
      "name": "python"
    }
  },
  "cells": [
    {
      "cell_type": "markdown",
      "metadata": {
        "id": "Ybra4e1eHMtk"
      },
      "source": [
        "# **ASSIGNMENT 3**"
      ]
    },
    {
      "cell_type": "markdown",
      "metadata": {
        "id": "kXEWAG5lbVQV"
      },
      "source": [
        "# **NAME: SHAIVAL JADHAV**"
      ]
    },
    {
      "cell_type": "markdown",
      "metadata": {
        "id": "MqMbStA5MywN"
      },
      "source": [
        "Write a function to return nth term of Fibonacci sequence."
      ]
    },
    {
      "cell_type": "code",
      "metadata": {
        "colab": {
          "base_uri": "https://localhost:8080/"
        },
        "id": "Kq8mwTL0Mq9M",
        "outputId": "64468cf9-58f5-492b-bc6e-f5ecc520c2c9"
      },
      "source": [
        "def Fibonacci_seq(terms):\n",
        "  n, n1, n2 = 0, 0, 1  \n",
        "  if terms <= 0:\n",
        "   return \"Invalid Number!!\"\n",
        "  elif terms == 1:\n",
        "   print(\"Fibonacci Sequence of\", terms,\"terms is: \", n1)\n",
        "  else:\n",
        "   print(\"Fibonacci Sequence of\", terms,\"terms is: \")\n",
        "   while n < terms:\n",
        "     print(n1, end = \" \")\n",
        "     seq = n1 + n2\n",
        "     n1 = n2\n",
        "     n2 = seq\n",
        "     n += 1\n",
        "terms = int(input(\"Enter number of terms: \"))\n",
        "Fibonacci_seq(terms)"
      ],
      "execution_count": null,
      "outputs": [
        {
          "output_type": "stream",
          "name": "stdout",
          "text": [
            "Enter number of terms: 15\n",
            "Fibonacci Sequence of 15 terms is: \n",
            "0 1 1 2 3 5 8 13 21 34 55 89 144 233 377 "
          ]
        }
      ]
    },
    {
      "cell_type": "markdown",
      "metadata": {
        "id": "-MCCfNkWZMNO"
      },
      "source": [
        "Write a function to find out GCD of two numbers using EUCLID'S algorithm."
      ]
    },
    {
      "cell_type": "code",
      "metadata": {
        "colab": {
          "base_uri": "https://localhost:8080/"
        },
        "id": "JNpPIYzKVWMJ",
        "outputId": "0b7b1f93-dbf4-4720-98fa-a361361f73e4"
      },
      "source": [
        "def cal_gcd(n1, n2):\n",
        "   while(n2):\n",
        "       n1, n2 = n2, n1 % n2\n",
        "   return n1\n",
        "\n",
        "n1 = int(input(\"Enter 1st Number: \"))\n",
        "n2 = int(input(\"Enter 2nd Number: \"))\n",
        "gcd = cal_gcd(n1, n2)\n",
        "print(\"The GCD of\",n1,\"and\",n2,\"is\", gcd)"
      ],
      "execution_count": null,
      "outputs": [
        {
          "output_type": "stream",
          "name": "stdout",
          "text": [
            "Enter 1st Number: 10\n",
            "Enter 2nd Number: 5\n",
            "The GCD of 10 and 5 is 5\n"
          ]
        }
      ]
    },
    {
      "cell_type": "markdown",
      "metadata": {
        "id": "jANmg8b2Zw-o"
      },
      "source": [
        "Write a function to find LCM of two number in most optimizers way."
      ]
    },
    {
      "cell_type": "code",
      "metadata": {
        "colab": {
          "base_uri": "https://localhost:8080/"
        },
        "id": "ZXV3_BMJaqyZ",
        "outputId": "e1bf878e-e244-4f50-87cc-d39c5a7d0db5"
      },
      "source": [
        "num1 = int(input(\"Enter 1st Number: \"))\n",
        "num2 = int(input(\"Enter 2nd Number: \"))\n",
        "if(num1 > num2 ): \n",
        "    max= num1\n",
        "else:\n",
        "    max= num2\n",
        "while(True):\n",
        "    if(max % num1 == 0 and max % num2 == 0):   \n",
        "        print(\"LCM of\",num1,\"and\",num2,\"is\",max)\n",
        "        break;\n",
        "    max= max+ 1"
      ],
      "execution_count": null,
      "outputs": [
        {
          "output_type": "stream",
          "name": "stdout",
          "text": [
            "Enter 1st Number: 50\n",
            "Enter 2nd Number: 25\n",
            "LCM of 50 and 25 is 50\n"
          ]
        }
      ]
    }
  ]
}