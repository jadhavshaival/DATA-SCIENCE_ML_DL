{
  "nbformat": 4,
  "nbformat_minor": 0,
  "metadata": {
    "colab": {
      "name": "Shaival Jadhav(REGex Assignment 5).ipynb",
      "provenance": [],
      "collapsed_sections": []
    },
    "kernelspec": {
      "name": "python3",
      "display_name": "Python 3"
    },
    "language_info": {
      "name": "python"
    }
  },
  "cells": [
    {
      "cell_type": "markdown",
      "metadata": {
        "id": "J4dfXv4ckzzc"
      },
      "source": [
        "# **ASSIGNMENT 5**"
      ]
    },
    {
      "cell_type": "markdown",
      "metadata": {
        "id": "mNC014Jxk4T0"
      },
      "source": [
        "## **NAME: SHAIVAL JADHAV**"
      ]
    },
    {
      "cell_type": "markdown",
      "metadata": {
        "id": "k5zaTxca6PBB"
      },
      "source": [
        "Q.1 Given a list of integers, write a function to return the sum of all prime numbers in that\n",
        "list."
      ]
    },
    {
      "cell_type": "code",
      "metadata": {
        "colab": {
          "base_uri": "https://localhost:8080/"
        },
        "id": "PjvUHp2k6QCT",
        "outputId": "46d02509-6e72-415e-b908-ae0d220efada"
      },
      "source": [
        "def sum_primes(a):\n",
        "    sum = 0\n",
        "    for num in a:  \n",
        "       if num > 1:  \n",
        "           for i in range(2,num):  \n",
        "               if (num % i) == 0:  \n",
        "                   break  \n",
        "           else:  \n",
        "               sum = sum + num\n",
        "    if sum < 1:\n",
        "        print(str(a))\n",
        "    else:\n",
        "        print(str(sum))\n",
        "sum_primes([1, 2, 3, 4, 5, 6, 8, 9, 10])"
      ],
      "execution_count": null,
      "outputs": [
        {
          "output_type": "stream",
          "name": "stdout",
          "text": [
            "10\n"
          ]
        }
      ]
    },
    {
      "cell_type": "markdown",
      "metadata": {
        "id": "cAZG4Kua6EO2"
      },
      "source": [
        "Q.2 Given a list of integers, write a function to check whether the list is strictly increasing or\n",
        "not."
      ]
    },
    {
      "cell_type": "code",
      "metadata": {
        "id": "fM89CReRXht-",
        "colab": {
          "base_uri": "https://localhost:8080/"
        },
        "outputId": "024895e6-4118-4e25-954f-1fa8702a2fe2"
      },
      "source": [
        "def solve(nums):\n",
        "  if len(nums) <= 2:\n",
        "    return True\n",
        "    if len(set(nums)) != len(nums):\n",
        "      return False\n",
        "  ordered = sorted(nums)\n",
        "  return nums == ordered or nums == ordered[::-1]\n",
        "print(solve([1, 2, 4, 5, 6, 10]))"
      ],
      "execution_count": null,
      "outputs": [
        {
          "output_type": "stream",
          "name": "stdout",
          "text": [
            "True\n"
          ]
        }
      ]
    },
    {
      "cell_type": "markdown",
      "metadata": {
        "id": "0rOLKBq_6VlZ"
      },
      "source": [
        "Q.3 Write a function to check whether a given list is expanding or not (the difference\n",
        "between adjacent elements should keep on increasing)."
      ]
    },
    {
      "cell_type": "code",
      "metadata": {
        "colab": {
          "base_uri": "https://localhost:8080/"
        },
        "id": "aiFlA5Yh6WJo",
        "outputId": "c29217ee-ebc8-46ca-ea2d-4c042079879e"
      },
      "source": [
        "def solve(nums):\n",
        "  if len(nums) <= 2:\n",
        "    return True\n",
        "    if len(set(nums)) != len(nums):\n",
        "      return False\n",
        "  ordered = sorted(nums)\n",
        "  return nums == ordered or nums == ordered[::-1]\n",
        "print(solve([19, 26, 48, 55, 15, 85]))"
      ],
      "execution_count": null,
      "outputs": [
        {
          "output_type": "stream",
          "name": "stdout",
          "text": [
            "False\n"
          ]
        }
      ]
    },
    {
      "cell_type": "markdown",
      "metadata": {
        "id": "OrEWY6Gg6WqO"
      },
      "source": [
        "Q.4 Write a function to calculate all permutations of a given string. (Without using itertools)"
      ]
    },
    {
      "cell_type": "code",
      "metadata": {
        "colab": {
          "base_uri": "https://localhost:8080/"
        },
        "id": "1e95-9FK6W_l",
        "outputId": "ff4442f4-df5e-4a79-e64d-a8699e73e260"
      },
      "source": [
        "Str = input()\n",
        "result = [] \n",
        "def permute(data, i, length):\n",
        "    if i == length:\n",
        "        result.append(''.join(data))\n",
        "    else:\n",
        "        for j in range(i, length):\n",
        "            data[i], data[j] = data[j], data[i]\n",
        "            permute(data, i + 1, length)\n",
        "            data[i], data[j] = data[j], data[i] \n",
        "permute(list(Str), 0, len(Str))\n",
        "print(str(result))"
      ],
      "execution_count": null,
      "outputs": [
        {
          "output_type": "stream",
          "name": "stdout",
          "text": [
            "abc\n",
            "['abc', 'acb', 'bac', 'bca', 'cba', 'cab']\n"
          ]
        }
      ]
    }
  ]
}