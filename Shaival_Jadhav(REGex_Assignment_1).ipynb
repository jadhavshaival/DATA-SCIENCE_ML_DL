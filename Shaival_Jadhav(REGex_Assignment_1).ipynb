{
  "nbformat": 4,
  "nbformat_minor": 0,
  "metadata": {
    "colab": {
      "name": "Shaival Jadhav(REGex Assignment 1).ipynb",
      "provenance": [],
      "collapsed_sections": []
    },
    "kernelspec": {
      "name": "python3",
      "display_name": "Python 3"
    },
    "language_info": {
      "name": "python"
    }
  },
  "cells": [
    {
      "cell_type": "markdown",
      "metadata": {
        "id": "k5T4hYorIWpd"
      },
      "source": [
        "# **ASSIGNMENT 1**"
      ]
    },
    {
      "cell_type": "markdown",
      "metadata": {
        "id": "GSIIklH-uX3A"
      },
      "source": [
        "# **NAME: SHAIVAL JADHAV**"
      ]
    },
    {
      "cell_type": "code",
      "metadata": {
        "colab": {
          "base_uri": "https://localhost:8080/"
        },
        "id": "nN0-7pHf6mjL",
        "outputId": "cedf5d92-c165-40a9-b913-ec05d59b7b38"
      },
      "source": [
        "#pattern no:1\n",
        "rows1 = int(input(\"Enter number of rows: \"))\n",
        "n = rows1\n",
        "# reverse for loop\n",
        "for i in range(rows1, 0, -1):\n",
        "    for j in range(0, i):\n",
        "        print(n, end=' ')\n",
        "    print(\"\\r\")"
      ],
      "execution_count": null,
      "outputs": [
        {
          "output_type": "stream",
          "name": "stdout",
          "text": [
            "Enter number of rows: 5\n",
            "5 5 5 5 5 \n",
            "5 5 5 5 \n",
            "5 5 5 \n",
            "5 5 \n",
            "5 \n"
          ]
        }
      ]
    },
    {
      "cell_type": "code",
      "metadata": {
        "colab": {
          "base_uri": "https://localhost:8080/"
        },
        "id": "YqMQolwx9GWm",
        "outputId": "89205fed-1499-4b4a-dbb9-ec3033b93917"
      },
      "source": [
        "#pattern no:2\n",
        "rows2 = int(input(\"Enter number of rows: \"))\n",
        "for i in range(rows2, 0, -1):\n",
        "    for j in range(0, i + 1):\n",
        "        print(j, end=\" \")\n",
        "    print()"
      ],
      "execution_count": null,
      "outputs": [
        {
          "output_type": "stream",
          "name": "stdout",
          "text": [
            "Enter number of rows: 5\n",
            "0 1 2 3 4 5 \n",
            "0 1 2 3 4 \n",
            "0 1 2 3 \n",
            "0 1 2 \n",
            "0 1 \n"
          ]
        }
      ]
    },
    {
      "cell_type": "code",
      "metadata": {
        "colab": {
          "base_uri": "https://localhost:8080/"
        },
        "id": "IKXL_yY19Gna",
        "outputId": "23050588-f2eb-43c6-f38c-ee6613ecbe6e"
      },
      "source": [
        "#pattern no.3\n",
        "rows3 = int(input(\"Enter number of rows: \"))\n",
        "i = 1\n",
        "while i <= rows3:\n",
        "    j = 1\n",
        "    while j <= i:\n",
        "        print((i * 2 - 1), end=\" \")\n",
        "        j = j + 1\n",
        "    i = i + 1\n",
        "    print()"
      ],
      "execution_count": null,
      "outputs": [
        {
          "output_type": "stream",
          "name": "stdout",
          "text": [
            "Enter number of rows: 5\n",
            "1 \n",
            "3 3 \n",
            "5 5 5 \n",
            "7 7 7 7 \n",
            "9 9 9 9 9 \n"
          ]
        }
      ]
    },
    {
      "cell_type": "code",
      "metadata": {
        "colab": {
          "base_uri": "https://localhost:8080/"
        },
        "id": "4AIdQDBL9G2Q",
        "outputId": "5340db0e-e681-4dc9-8315-c75e761266cf"
      },
      "source": [
        "#pattern no.4\n",
        "rows4 = int(input(\"Enter number of rows: \"))\n",
        "for i in range(1, rows4):\n",
        "    for j in range(i, 0, -1):\n",
        "        print(j, end=' ')\n",
        "    print(\"\")"
      ],
      "execution_count": null,
      "outputs": [
        {
          "output_type": "stream",
          "name": "stdout",
          "text": [
            "Enter number of rows: 6\n",
            "1 \n",
            "2 1 \n",
            "3 2 1 \n",
            "4 3 2 1 \n",
            "5 4 3 2 1 \n"
          ]
        }
      ]
    },
    {
      "cell_type": "code",
      "metadata": {
        "colab": {
          "base_uri": "https://localhost:8080/"
        },
        "id": "7O0dd-0a9HFO",
        "outputId": "ee0b998a-8a54-4f4b-b00a-55feecb7f085"
      },
      "source": [
        "#pattern no.5\n",
        "rows5 = int(input(\"Enter number of rows: \"))\n",
        "start = 1\n",
        "stop = 2\n",
        "currentNumber = stop\n",
        "for row in range(2, rows5):\n",
        "    for col in range(start, stop):\n",
        "        currentNumber -= 1\n",
        "        print(currentNumber, end=\" \")\n",
        "    print()\n",
        "    start = stop\n",
        "    stop += row\n",
        "    currentNumber = stop"
      ],
      "execution_count": null,
      "outputs": [
        {
          "output_type": "stream",
          "name": "stdout",
          "text": [
            "Enter number of rows: 6\n",
            "1 \n",
            "3 2 \n",
            "6 5 4 \n",
            "10 9 8 7 \n"
          ]
        }
      ]
    },
    {
      "cell_type": "code",
      "metadata": {
        "colab": {
          "base_uri": "https://localhost:8080/"
        },
        "id": "PCzjeoDq9HTg",
        "outputId": "924b211a-aa63-4aec-9b4b-822b2ac87731"
      },
      "source": [
        "#pattern no.6\n",
        "from math import factorial\n",
        "rows6 = int(input(\"Enter number of rows: \"))\n",
        "for i in range(0, rows6):\n",
        "    for j in range(i + 1):\n",
        "        print(factorial(i)//(factorial(j)*factorial(i-j)), end =' ')\n",
        "    print(\"\")\n"
      ],
      "execution_count": null,
      "outputs": [
        {
          "output_type": "stream",
          "name": "stdout",
          "text": [
            "Enter number of rows: 7\n",
            "1 \n",
            "1 1 \n",
            "1 2 1 \n",
            "1 3 3 1 \n",
            "1 4 6 4 1 \n",
            "1 5 10 10 5 1 \n",
            "1 6 15 20 15 6 1 \n"
          ]
        }
      ]
    },
    {
      "cell_type": "code",
      "metadata": {
        "colab": {
          "base_uri": "https://localhost:8080/"
        },
        "id": "ohTzqkJA9Hig",
        "outputId": "0ff8af17-5042-443c-c31b-4a2a630c1a6d"
      },
      "source": [
        "#pattern no.7\n",
        "rows7 = int(input(\"Enter number of rows: \"))\n",
        "for i in range(1, rows7 + 1):\n",
        "    for j in range(1, rows7 + 1):\n",
        "        if j <= i:\n",
        "            print(i, end=' ')\n",
        "        else:\n",
        "            print(j, end=' ')\n",
        "    print()"
      ],
      "execution_count": null,
      "outputs": [
        {
          "output_type": "stream",
          "name": "stdout",
          "text": [
            "Enter number of rows: 5\n",
            "1 2 3 4 5 \n",
            "2 2 3 4 5 \n",
            "3 3 3 4 5 \n",
            "4 4 4 4 5 \n",
            "5 5 5 5 5 \n"
          ]
        }
      ]
    },
    {
      "cell_type": "code",
      "metadata": {
        "colab": {
          "base_uri": "https://localhost:8080/"
        },
        "id": "cN_XcNpJ9IAn",
        "outputId": "e0b6db9d-2383-43f8-8352-4d6e830ec84d"
      },
      "source": [
        "#pattern no.8\n",
        "rows8 = int(input(\"Enter number of rows: \"))\n",
        "for i in range(0, rows8):\n",
        "    for j in range(1, i + 1):\n",
        "        print(i * j, end=\" \")\n",
        "    print(\"\")"
      ],
      "execution_count": null,
      "outputs": [
        {
          "output_type": "stream",
          "name": "stdout",
          "text": [
            "Enter number of rows: 9\n",
            "\n",
            "1 \n",
            "2 4 \n",
            "3 6 9 \n",
            "4 8 12 16 \n",
            "5 10 15 20 25 \n",
            "6 12 18 24 30 36 \n",
            "7 14 21 28 35 42 49 \n",
            "8 16 24 32 40 48 56 64 \n"
          ]
        }
      ]
    },
    {
      "cell_type": "code",
      "metadata": {
        "colab": {
          "base_uri": "https://localhost:8080/"
        },
        "id": "zF0eDde59IPo",
        "outputId": "b80d6566-018e-459b-88ee-040021a17641"
      },
      "source": [
        "#pattern no.9\n",
        "rows9 = int(input(\"Enter number of rows: \"))\n",
        "k = 2 * rows9 - 2\n",
        "for i in range(rows9, -1, -1):\n",
        "    for j in range(k, 0, -1):\n",
        "        print(end=\" \")\n",
        "    k += 1\n",
        "    for j in range(0, i + 1):\n",
        "        print(\"*\", end=\" \")\n",
        "    print(\"\")"
      ],
      "execution_count": null,
      "outputs": [
        {
          "output_type": "stream",
          "name": "stdout",
          "text": [
            "Enter number of rows: 5\n",
            "        * * * * * * \n",
            "         * * * * * \n",
            "          * * * * \n",
            "           * * * \n",
            "            * * \n",
            "             * \n"
          ]
        }
      ]
    },
    {
      "cell_type": "code",
      "metadata": {
        "colab": {
          "base_uri": "https://localhost:8080/"
        },
        "id": "t9NN46Gi9Ida",
        "outputId": "ff5846ca-6b65-456e-e144-58b6f7873409"
      },
      "source": [
        "#pattern no.10\n",
        "rows10 = int(input(\"Enter number of rows5: \"))\n",
        "k = 2 * rows10 - 2\n",
        "for i in range(0, rows10):\n",
        "    for j in range(0, k):\n",
        "        print(end=\" \")\n",
        "    k -= 1\n",
        "    for j in range(0, i+1):\n",
        "        print(\"* \", end=\" \")\n",
        "    print(\"\")"
      ],
      "execution_count": null,
      "outputs": [
        {
          "output_type": "stream",
          "name": "stdout",
          "text": [
            "Enter number of rows5: 7\n",
            "            *  \n",
            "           *  *  \n",
            "          *  *  *  \n",
            "         *  *  *  *  \n",
            "        *  *  *  *  *  \n",
            "       *  *  *  *  *  *  \n",
            "      *  *  *  *  *  *  *  \n"
          ]
        }
      ]
    },
    {
      "cell_type": "code",
      "metadata": {
        "colab": {
          "base_uri": "https://localhost:8080/"
        },
        "id": "psJiJFy79Ish",
        "outputId": "f3c27e9b-c189-482f-f59a-2b493aa6ade6"
      },
      "source": [
        "#pattern no.11\n",
        "rows11 = int(input(\"Enter number of rows: \"))\n",
        "for  i in range(1,rows11):\n",
        "    for j in range(1, i + 1):\n",
        "        print(\"*\", end=\" \")\n",
        "    print() \n",
        "print()\n",
        "   \n",
        "for  i in range(rows11 - 1, 0, -1):\n",
        "    for j in range(1, i + 1):\n",
        "        print(\"*\", end=\" \")\n",
        "    print()     "
      ],
      "execution_count": null,
      "outputs": [
        {
          "output_type": "stream",
          "name": "stdout",
          "text": [
            "Enter number of rows: 7\n",
            "* \n",
            "* * \n",
            "* * * \n",
            "* * * * \n",
            "* * * * * \n",
            "* * * * * * \n",
            "\n",
            "* * * * * * \n",
            "* * * * * \n",
            "* * * * \n",
            "* * * \n",
            "* * \n",
            "* \n"
          ]
        }
      ]
    },
    {
      "cell_type": "code",
      "metadata": {
        "colab": {
          "base_uri": "https://localhost:8080/"
        },
        "id": "XGUrLp2f9I7v",
        "outputId": "1169a7cb-0877-4373-d362-78e574b53c08"
      },
      "source": [
        "#pattern no.12\n",
        "rows12 = int(input(\"Enter number of rows: \"))\n",
        "for  i in range(1, rows12):\n",
        "    for j in range(1, i + 1):\n",
        "        print(\"*\", end=\" \")\n",
        "    print() \n",
        "\n",
        "for  i in range(rows12, 0, -1):\n",
        "    for j in range(1,i+1):\n",
        "        print(\"*\", end=\" \")\n",
        "    print()   "
      ],
      "execution_count": null,
      "outputs": [
        {
          "output_type": "stream",
          "name": "stdout",
          "text": [
            "Enter number of rows: 5\n",
            "* \n",
            "* * \n",
            "* * * \n",
            "* * * * \n",
            "* * * * * \n",
            "* * * * \n",
            "* * * \n",
            "* * \n",
            "* \n"
          ]
        }
      ]
    },
    {
      "cell_type": "code",
      "metadata": {
        "colab": {
          "base_uri": "https://localhost:8080/"
        },
        "id": "2_UTVb619JMl",
        "outputId": "4bc15e6f-0607-43a8-c66a-53439e9c73c3"
      },
      "source": [
        "#pattern no.13\n",
        "rows13 = int(input(\"Enter number of rows: \"))\n",
        "i = 1\n",
        "while i <= rows13:\n",
        "    j = i\n",
        "    while j < rows13:\n",
        "        # display space\n",
        "        print(' ', end=' ')\n",
        "        j += 1\n",
        "    k = 1\n",
        "    while k <= i:\n",
        "        print('*', end=' ')\n",
        "        k += 1\n",
        "    print()\n",
        "    i += 1\n",
        "\n",
        "i = rows13\n",
        "while i >= 1:\n",
        "    j = i\n",
        "    while j <= rows13:\n",
        "        print(' ', end=' ')\n",
        "        j += 1\n",
        "    k = 1\n",
        "    while k < i:\n",
        "        print('*', end=' ')\n",
        "        k += 1\n",
        "    print('')\n",
        "    i -= 1"
      ],
      "execution_count": null,
      "outputs": [
        {
          "output_type": "stream",
          "name": "stdout",
          "text": [
            "Enter number of rows: 5\n",
            "        * \n",
            "      * * \n",
            "    * * * \n",
            "  * * * * \n",
            "* * * * * \n",
            "  * * * * \n",
            "    * * * \n",
            "      * * \n",
            "        * \n",
            "          \n"
          ]
        }
      ]
    },
    {
      "cell_type": "code",
      "metadata": {
        "colab": {
          "base_uri": "https://localhost:8080/"
        },
        "id": "FSvdki5X9JaC",
        "outputId": "1179c0ad-c3cb-4b7e-dd0e-626938acbe3c"
      },
      "source": [
        "#pattern no.14\n",
        "rows14 = int(input(\"Enter number of rows: \"))\n",
        "i = 0\n",
        "while i <= rows14 - 1:\n",
        "    j = 0\n",
        "    while j < i:\n",
        "        # display space\n",
        "        print('', end=' ')\n",
        "        j += 1\n",
        "    k = i\n",
        "    while k <= rows14 - 1:\n",
        "        print('*', end=' ')\n",
        "        k += 1\n",
        "    print()\n",
        "    i += 1\n",
        "\n",
        "i = rows14 - 1\n",
        "while i >= 0:\n",
        "    j = 0\n",
        "    while j < i:\n",
        "        print('', end=' ')\n",
        "        j += 1\n",
        "    k = i\n",
        "    while k <= rows14 - 1:\n",
        "        print('*', end=' ')\n",
        "        k += 1\n",
        "    print('')\n",
        "    i -= 1"
      ],
      "execution_count": null,
      "outputs": [
        {
          "output_type": "stream",
          "name": "stdout",
          "text": [
            "Enter number of rows: 5\n",
            "* * * * * \n",
            " * * * * \n",
            "  * * * \n",
            "   * * \n",
            "    * \n",
            "    * \n",
            "   * * \n",
            "  * * * \n",
            " * * * * \n",
            "* * * * * \n"
          ]
        }
      ]
    },
    {
      "cell_type": "code",
      "metadata": {
        "colab": {
          "base_uri": "https://localhost:8080/"
        },
        "id": "M23_VtVw6sM6",
        "outputId": "710dd7e4-0517-44b1-a1f2-a629443880d3"
      },
      "source": [
        "#pattern no.15\n",
        "rows15 = int(input(\"Enter number of rows: \"))\n",
        "print(\"*\" * rows15, end=\"\\n\")\n",
        "i = (rows15 // 2) - 1\n",
        "j = 2\n",
        "while i != 0:\n",
        "    while j <= (rows15 - 2):\n",
        "        print(\"*\" * i, end=\"\")\n",
        "        print(\"_\" * j, end=\"\")\n",
        "        print(\"*\" * i, end=\"\\n\")\n",
        "        i = i - 1\n",
        "        j = j + 2"
      ],
      "execution_count": null,
      "outputs": [
        {
          "output_type": "stream",
          "name": "stdout",
          "text": [
            "Enter number of rows: 16\n",
            "****************\n",
            "*******__*******\n",
            "******____******\n",
            "*****______*****\n",
            "****________****\n",
            "***__________***\n",
            "**____________**\n",
            "*______________*\n"
          ]
        }
      ]
    }
  ]
}